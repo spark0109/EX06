{
 "cells": [
  {
   "cell_type": "code",
   "execution_count": 1,
   "id": "07e9ee81",
   "metadata": {},
   "outputs": [
    {
     "name": "stdout",
     "output_type": "stream",
     "text": [
      "데이터 크기: 187088\n",
      "Examples:\n",
      " [\"Busted flat in Baton Rouge, waitin' for a train\", \"And I's feelin' near as faded as my jeans\", 'Bobby thumbed a diesel down, just before it rained']\n"
     ]
    }
   ],
   "source": [
    "import os, re \n",
    "import numpy as np\n",
    "import tensorflow as tf\n",
    "import glob\n",
    "import matplotlib.pyplot as plt\n",
    "\n",
    "from sklearn.model_selection import train_test_split\n",
    "\n",
    "txt_file_path = os.getenv('HOME')+'/aiffel/lyricist/data/lyrics/*' #os.getenv(x)함수는 환경 변수x의 값을 포함하는 문자열 변수를 반환합니다. txt_file_path 에 \"/root/aiffel/lyricist/data/lyrics/*\" 저장\n",
    "txt_list = glob.glob(txt_file_path) #txt_file_path 경로에 있는 모든 파일명을 리스트 형식으로 txt_list 에 할당\n",
    "\n",
    "raw_corpus = [] \n",
    "\n",
    "for txt_file in txt_list:\n",
    "    with open(txt_file, \"r\") as f:\n",
    "        raw = f.read().splitlines() #read() : 파일 전체의 내용을 하나의 문자열로 읽어온다. , splitlines()  : 여러라인으로 구분되어 있는 문자열을 한라인씩 분리하여 리스트로 반환\n",
    "        raw_corpus.extend(raw) # extend() : 리스트함수로 추가적인 내용을 연장 한다.\n",
    "\n",
    "print(\"데이터 크기:\", len(raw_corpus))\n",
    "print(\"Examples:\\n\", raw_corpus[:3])\n"
   ]
  },
  {
   "cell_type": "code",
   "execution_count": 2,
   "id": "ae1b3656",
   "metadata": {},
   "outputs": [],
   "source": [
    "# preprocess_sentence() 만들기\n",
    "# len 15가 넘어가면 데이터에서 제외할것\n",
    "\n",
    "def preprocess_sentence(sentence):\n",
    "    sentence = sentence.lower().strip() # 1\n",
    "    sentence = re.sub(r\"([?.!,¿])\", r\" \\1 \", sentence) # 2\n",
    "    sentence = re.sub(r'[\" \"]+', \" \", sentence) # 3\n",
    "    sentence = re.sub(r\"[^a-zA-Z?.!,¿]+\", \" \", sentence) # 4\n",
    "    sentence = sentence.strip() # 5\n",
    "    sentence = '<start> ' + sentence + ' <end>' # 6\n",
    "    return sentence\n"
   ]
  },
  {
   "cell_type": "code",
   "execution_count": null,
   "id": "02250279",
   "metadata": {},
   "outputs": [],
   "source": []
  },
  {
   "cell_type": "code",
   "execution_count": 3,
   "id": "1a826ae9",
   "metadata": {},
   "outputs": [
    {
     "data": {
      "text/plain": [
       "['<start> busted flat in baton rouge , waitin for a train <end>',\n",
       " '<start> and i s feelin near as faded as my jeans <end>',\n",
       " '<start> bobby thumbed a diesel down , just before it rained <end>',\n",
       " '<start> it rode us all the way to new orleans i pulled my harpoon out of my dirty red bandanna <end>',\n",
       " '<start> i was playin soft while bobby sang the blues , yeah <end>',\n",
       " '<start> windshield wipers slappin time , i was holdin bobby s hand in mine <end>',\n",
       " '<start> we sang every song that driver knew freedom s just another word for nothin left to lose <end>',\n",
       " '<start> nothin , don t mean nothin hon if it ain t free , no no <end>',\n",
       " '<start> and , feelin good was easy , lord , when he sang the blues <end>',\n",
       " '<start> you know , feelin good was good enough for me <end>']"
      ]
     },
     "execution_count": 3,
     "metadata": {},
     "output_type": "execute_result"
    }
   ],
   "source": [
    "# 여기에 정제된 문장을 모을겁니다\n",
    "corpus = []\n",
    "\n",
    "# raw_corpus list에 저장된 문장들을 순서대로 반환하여 sentence에 저장\n",
    "for sentence in raw_corpus:\n",
    "    # 우리가 원하지 않는 문장은 건너뜁니다\n",
    "    if len(sentence) == 0: continue\n",
    "    if sentence[-1] == \":\": continue\n",
    "    \n",
    "    # 앞서 구현한 preprocess_sentence() 함수를 이용하여 문장을 정제를 하고 담아주세요\n",
    "    preprocessed_sentence = preprocess_sentence(sentence)\n",
    "    corpus.append(preprocessed_sentence)\n",
    "        \n",
    "# 정제된 결과를 10개만 확인해보죠\n",
    "\n",
    "corpus[:10]"
   ]
  },
  {
   "cell_type": "code",
   "execution_count": 4,
   "id": "70bbd428",
   "metadata": {},
   "outputs": [],
   "source": [
    "def tokenize(corpus):\n",
    "\n",
    "    tokenizer = tf.keras.preprocessing.text.Tokenizer(\n",
    "        num_words=12000, \n",
    "        filters=' ',\n",
    "        oov_token=\"<unk>\"\n",
    "    )\n",
    "    \n",
    "    tokenizer.fit_on_texts(corpus)\n",
    "    tensor = tokenizer.texts_to_sequences(corpus)   \n",
    "    tensor = tf.keras.preprocessing.sequence.pad_sequences(tensor, padding='post')\n",
    "    \n",
    "    print(tensor,tokenizer)\n",
    "    return tensor, tokenizer\n",
    "\n"
   ]
  },
  {
   "cell_type": "code",
   "execution_count": 5,
   "id": "340f199f",
   "metadata": {},
   "outputs": [
    {
     "name": "stdout",
     "output_type": "stream",
     "text": [
      "[[   2 3604 1691 ...    0    0    0]\n",
      " [   2    8    5 ...    0    0    0]\n",
      " [   2  804 7655 ...    0    0    0]\n",
      " ...\n",
      " [   2    5   22 ...    0    0    0]\n",
      " [   2    5   22 ...    0    0    0]\n",
      " [   2    5   22 ...    0    0    0]] <keras_preprocessing.text.Tokenizer object at 0x7fe1a0126130>\n"
     ]
    }
   ],
   "source": [
    "tensor, tokenizer = tokenize(corpus)"
   ]
  },
  {
   "cell_type": "code",
   "execution_count": 6,
   "id": "0857520e",
   "metadata": {},
   "outputs": [
    {
     "name": "stdout",
     "output_type": "stream",
     "text": [
      "[   2 3604 1691   14 7050 3995    4 1100   28    9  681    3    0    0\n",
      "    0    0    0    0    0    0    0    0    0    0    0    0    0    0\n",
      "    0    0    0    0    0    0    0    0    0    0    0    0    0    0\n",
      "    0    0    0    0    0    0    0    0    0    0    0    0    0    0\n",
      "    0    0    0    0    0    0    0    0    0    0    0    0    0    0\n",
      "    0    0    0    0    0    0    0    0    0    0    0    0    0    0\n",
      "    0    0    0    0    0    0    0    0    0    0    0    0    0    0\n",
      "    0    0    0    0    0    0    0    0    0    0    0    0    0    0\n",
      "    0    0    0    0    0    0    0    0    0    0    0    0    0    0\n",
      "    0    0    0    0    0    0    0    0    0    0    0    0    0    0\n",
      "    0    0    0    0    0    0    0    0    0    0    0    0    0    0\n",
      "    0    0    0    0    0    0    0    0    0    0    0    0    0    0\n",
      "    0    0    0    0    0    0    0    0    0    0    0    0    0    0\n",
      "    0    0    0    0    0    0    0    0    0    0    0    0    0    0\n",
      "    0    0    0    0    0    0    0    0    0    0    0    0    0    0\n",
      "    0    0    0    0    0    0    0    0    0    0    0    0    0    0\n",
      "    0    0    0    0    0    0    0    0    0    0    0    0    0    0\n",
      "    0    0    0    0    0    0    0    0    0    0    0    0    0    0\n",
      "    0    0    0    0    0    0    0    0    0    0    0    0    0    0\n",
      "    0    0    0    0    0    0    0    0    0    0    0    0    0    0\n",
      "    0    0    0    0    0    0    0    0    0    0    0    0    0    0\n",
      "    0    0    0    0    0    0    0    0    0    0    0    0    0    0\n",
      "    0    0    0    0    0    0    0    0    0    0    0    0    0    0\n",
      "    0    0    0    0    0    0    0    0    0    0    0    0    0    0\n",
      "    0    0    0    0    0    0    0    0    0    0]\n",
      "[3604 1691   14 7050 3995    4 1100   28    9  681    3    0    0    0\n",
      "    0    0    0    0    0    0    0    0    0    0    0    0    0    0\n",
      "    0    0    0    0    0    0    0    0    0    0    0    0    0    0\n",
      "    0    0    0    0    0    0    0    0    0    0    0    0    0    0\n",
      "    0    0    0    0    0    0    0    0    0    0    0    0    0    0\n",
      "    0    0    0    0    0    0    0    0    0    0    0    0    0    0\n",
      "    0    0    0    0    0    0    0    0    0    0    0    0    0    0\n",
      "    0    0    0    0    0    0    0    0    0    0    0    0    0    0\n",
      "    0    0    0    0    0    0    0    0    0    0    0    0    0    0\n",
      "    0    0    0    0    0    0    0    0    0    0    0    0    0    0\n",
      "    0    0    0    0    0    0    0    0    0    0    0    0    0    0\n",
      "    0    0    0    0    0    0    0    0    0    0    0    0    0    0\n",
      "    0    0    0    0    0    0    0    0    0    0    0    0    0    0\n",
      "    0    0    0    0    0    0    0    0    0    0    0    0    0    0\n",
      "    0    0    0    0    0    0    0    0    0    0    0    0    0    0\n",
      "    0    0    0    0    0    0    0    0    0    0    0    0    0    0\n",
      "    0    0    0    0    0    0    0    0    0    0    0    0    0    0\n",
      "    0    0    0    0    0    0    0    0    0    0    0    0    0    0\n",
      "    0    0    0    0    0    0    0    0    0    0    0    0    0    0\n",
      "    0    0    0    0    0    0    0    0    0    0    0    0    0    0\n",
      "    0    0    0    0    0    0    0    0    0    0    0    0    0    0\n",
      "    0    0    0    0    0    0    0    0    0    0    0    0    0    0\n",
      "    0    0    0    0    0    0    0    0    0    0    0    0    0    0\n",
      "    0    0    0    0    0    0    0    0    0    0    0    0    0    0\n",
      "    0    0    0    0    0    0    0    0    0    0]\n"
     ]
    },
    {
     "data": {
      "text/plain": [
       "(175749, 346)"
      ]
     },
     "execution_count": 6,
     "metadata": {},
     "output_type": "execute_result"
    }
   ],
   "source": [
    "src_input = tensor[:, :-1]  \n",
    "# tensor에서 <start>를 잘라내서 타겟 문장을 생성합니다.\n",
    "tgt_input = tensor[:, 1:]    \n",
    "\n",
    "print(src_input[0])\n",
    "print(tgt_input[0])\n",
    "\n",
    "src_input.shape"
   ]
  },
  {
   "cell_type": "code",
   "execution_count": 7,
   "id": "f010c46d",
   "metadata": {},
   "outputs": [
    {
     "data": {
      "text/plain": [
       "<BatchDataset shapes: ((128, 346), (128, 346)), types: (tf.int32, tf.int32)>"
      ]
     },
     "execution_count": 7,
     "metadata": {},
     "output_type": "execute_result"
    }
   ],
   "source": [
    "BUFFER_SIZE = len(src_input)\n",
    "BATCH_SIZE = 128\n",
    "steps_per_epoch = len(src_input) // BATCH_SIZE\n",
    "\n",
    " # tokenizer가 구축한 단어사전 내 7000개와, 여기 포함되지 않은 0:<pad>를 포함하여 7001개\n",
    " # tokenizer.num_words: 주어진 데이터의 문장들에서 빈도수가 높은 n개의 단어만 선택\n",
    " # tokenize() 함수에서 num_words를 7000개로 선언했기 때문에, tokenizer.num_words의 값은 7000\n",
    "VOCAB_SIZE = tokenizer.num_words + 1   \n",
    "\n",
    "# 준비한 데이터 소스로부터 데이터셋을 만듭니다\n",
    "# 데이터셋에 대해서는 아래 문서를 참고하세요\n",
    "# 자세히 알아둘수록 도움이 많이 되는 중요한 문서입니다\n",
    "# https://www.tensorflow.org/api_docs/python/tf/data/Dataset\n",
    "dataset = tf.data.Dataset.from_tensor_slices((src_input, tgt_input))\n",
    "dataset = dataset.shuffle(BUFFER_SIZE)\n",
    "dataset = dataset.batch(BATCH_SIZE, drop_remainder=True)\n",
    "dataset"
   ]
  },
  {
   "cell_type": "code",
   "execution_count": 8,
   "id": "ab2da529",
   "metadata": {},
   "outputs": [],
   "source": [
    "class TextGenerator(tf.keras.Model):\n",
    "    def __init__(self, vocab_size, embedding_size, hidden_size):\n",
    "        super().__init__()\n",
    "        # Embedding 레이어, 2개의 LSTM 레이어, 1개의 Dense 레이어로 구성되어 있다.\n",
    "        # Embedding 레이어는 단어 사전의 인덱스 값을 해당 인덱스 번째의 워드 벡터로 바꿔준다.\n",
    "        # 이 워드 벡터는 의미 벡터 공간에서 단어의 추상적 표현으로 사용된다. \n",
    "        self.embedding = tf.keras.layers.Embedding(vocab_size, embedding_size) \n",
    "        self.rnn_1 = tf.keras.layers.LSTM(hidden_size, return_sequences=True)  \n",
    "        self.rnn_2 = tf.keras.layers.LSTM(hidden_size, return_sequences=True)\n",
    "        self.linear = tf.keras.layers.Dense(vocab_size)\n",
    "        \n",
    "    def call(self, x):\n",
    "        out = self.embedding(x)\n",
    "        out = self.rnn_1(out)\n",
    "        out = self.rnn_2(out)\n",
    "        out = self.linear(out)\n",
    "        \n",
    "        return out\n",
    "# embedding size 값이 커질수록 단어의 추상적인 특징들을 더 잡아낼 수 있지만\n",
    "# 그만큼 충분한 데이터가 없으면 안좋은 결과 값을 가져옵니다!   \n"
   ]
  },
  {
   "cell_type": "code",
   "execution_count": 9,
   "id": "c454338f",
   "metadata": {},
   "outputs": [],
   "source": [
    "embedding_size = 128 # 워드 벡터의 차원수를 말하며 단어가 추상적으로 표현되는 크기입니다.\n",
    "hidden_size = 256 # 모델에 얼마나 많은 일꾼을 둘 것인가? 정도로 이해하면 좋다.\n",
    "model = TextGenerator(tokenizer.num_words + 1, embedding_size , hidden_size) # tokenizer.num_words에 +1인 이유는 문장에 없는 pad가 사용되었기 때문이다.\n"
   ]
  },
  {
   "cell_type": "code",
   "execution_count": 10,
   "id": "9bec4e41",
   "metadata": {},
   "outputs": [],
   "source": [
    "# train / test split\n",
    "enc_train, enc_val, dec_train, dec_val = train_test_split(src_input, tgt_input, test_size=0.2, random_state=34)\n"
   ]
  },
  {
   "cell_type": "code",
   "execution_count": 11,
   "id": "819b5b45",
   "metadata": {},
   "outputs": [
    {
     "data": {
      "text/plain": [
       "<tf.Tensor: shape=(128, 346, 12001), dtype=float32, numpy=\n",
       "array([[[-2.15208347e-05,  5.19308378e-05,  7.30644024e-05, ...,\n",
       "          2.74989525e-05, -7.73094507e-05, -5.01392860e-05],\n",
       "        [-6.86558051e-05,  4.62063945e-05,  5.15302781e-05, ...,\n",
       "          1.08652792e-04, -2.46074691e-04, -1.01758553e-04],\n",
       "        [-2.09704776e-05, -2.85966635e-05,  1.23270074e-05, ...,\n",
       "          4.85017190e-05, -3.00845073e-04, -2.43695526e-04],\n",
       "        ...,\n",
       "        [ 3.01768398e-03,  6.59637735e-04,  9.54623451e-04, ...,\n",
       "         -2.74755340e-03,  1.67235499e-03,  1.05832296e-03],\n",
       "        [ 3.01768398e-03,  6.59637735e-04,  9.54623334e-04, ...,\n",
       "         -2.74755340e-03,  1.67235523e-03,  1.05832284e-03],\n",
       "        [ 3.01768398e-03,  6.59637735e-04,  9.54623451e-04, ...,\n",
       "         -2.74755340e-03,  1.67235511e-03,  1.05832296e-03]],\n",
       "\n",
       "       [[-2.15208347e-05,  5.19308378e-05,  7.30644024e-05, ...,\n",
       "          2.74989525e-05, -7.73094507e-05, -5.01392860e-05],\n",
       "        [-4.40205476e-05, -1.11773435e-04,  1.70755418e-04, ...,\n",
       "          1.02840611e-04, -4.20079632e-05, -2.67897645e-04],\n",
       "        [-1.92596883e-04, -1.29319320e-04,  3.36913014e-04, ...,\n",
       "          2.44326977e-04,  1.29702792e-04, -2.65906594e-04],\n",
       "        ...,\n",
       "        [ 3.01768351e-03,  6.59636629e-04,  9.54624149e-04, ...,\n",
       "         -2.74755270e-03,  1.67235441e-03,  1.05832249e-03],\n",
       "        [ 3.01768351e-03,  6.59636746e-04,  9.54624207e-04, ...,\n",
       "         -2.74755270e-03,  1.67235441e-03,  1.05832249e-03],\n",
       "        [ 3.01768351e-03,  6.59636746e-04,  9.54624149e-04, ...,\n",
       "         -2.74755270e-03,  1.67235453e-03,  1.05832249e-03]],\n",
       "\n",
       "       [[-2.15208347e-05,  5.19308378e-05,  7.30644024e-05, ...,\n",
       "          2.74989525e-05, -7.73094507e-05, -5.01392860e-05],\n",
       "        [-4.40205476e-05, -1.11773435e-04,  1.70755418e-04, ...,\n",
       "          1.02840611e-04, -4.20079632e-05, -2.67897645e-04],\n",
       "        [-1.92596883e-04, -1.29319320e-04,  3.36913014e-04, ...,\n",
       "          2.44326977e-04,  1.29702792e-04, -2.65906594e-04],\n",
       "        ...,\n",
       "        [ 3.01768444e-03,  6.59636687e-04,  9.54624673e-04, ...,\n",
       "         -2.74755294e-03,  1.67235406e-03,  1.05832296e-03],\n",
       "        [ 3.01768444e-03,  6.59636455e-04,  9.54624615e-04, ...,\n",
       "         -2.74755294e-03,  1.67235418e-03,  1.05832261e-03],\n",
       "        [ 3.01768444e-03,  6.59636687e-04,  9.54624615e-04, ...,\n",
       "         -2.74755294e-03,  1.67235406e-03,  1.05832284e-03]],\n",
       "\n",
       "       ...,\n",
       "\n",
       "       [[-2.15208347e-05,  5.19308378e-05,  7.30644024e-05, ...,\n",
       "          2.74989525e-05, -7.73094507e-05, -5.01392860e-05],\n",
       "        [-6.88803120e-05,  1.02665384e-04,  2.60498491e-04, ...,\n",
       "          2.31951315e-04, -1.60960728e-04, -2.39290399e-04],\n",
       "        [-1.24962928e-04,  3.85071471e-05,  4.10149456e-04, ...,\n",
       "          5.56518906e-04, -1.79225884e-04, -2.24678908e-04],\n",
       "        ...,\n",
       "        [ 3.01768375e-03,  6.59636804e-04,  9.54623334e-04, ...,\n",
       "         -2.74755247e-03,  1.67235429e-03,  1.05832284e-03],\n",
       "        [ 3.01768375e-03,  6.59636804e-04,  9.54623334e-04, ...,\n",
       "         -2.74755247e-03,  1.67235429e-03,  1.05832284e-03],\n",
       "        [ 3.01768375e-03,  6.59636804e-04,  9.54623334e-04, ...,\n",
       "         -2.74755247e-03,  1.67235429e-03,  1.05832284e-03]],\n",
       "\n",
       "       [[-2.15208347e-05,  5.19308378e-05,  7.30644024e-05, ...,\n",
       "          2.74989525e-05, -7.73094507e-05, -5.01392860e-05],\n",
       "        [ 3.13573946e-05,  3.62836872e-05, -2.32342027e-05, ...,\n",
       "          1.06967804e-04, -2.32528939e-04, -6.14652454e-05],\n",
       "        [ 1.69010091e-04, -8.32571277e-06, -1.34296890e-04, ...,\n",
       "         -1.23122718e-05, -9.04607805e-05, -9.89402106e-05],\n",
       "        ...,\n",
       "        [ 3.01768444e-03,  6.59637328e-04,  9.54624498e-04, ...,\n",
       "         -2.74755270e-03,  1.67235464e-03,  1.05832296e-03],\n",
       "        [ 3.01768444e-03,  6.59637328e-04,  9.54624498e-04, ...,\n",
       "         -2.74755270e-03,  1.67235464e-03,  1.05832308e-03],\n",
       "        [ 3.01768444e-03,  6.59637211e-04,  9.54624498e-04, ...,\n",
       "         -2.74755270e-03,  1.67235464e-03,  1.05832308e-03]],\n",
       "\n",
       "       [[-2.15208347e-05,  5.19308378e-05,  7.30644024e-05, ...,\n",
       "          2.74989525e-05, -7.73094507e-05, -5.01392860e-05],\n",
       "        [ 2.61226141e-05, -1.60122709e-05,  6.16983380e-05, ...,\n",
       "          1.52337918e-04, -2.19774811e-04, -1.23110003e-04],\n",
       "        [-1.56501337e-04, -1.69325198e-04, -6.82654791e-05, ...,\n",
       "          2.33989471e-04, -3.74037227e-05, -2.96170823e-04],\n",
       "        ...,\n",
       "        [ 3.01768444e-03,  6.59637270e-04,  9.54623974e-04, ...,\n",
       "         -2.74755294e-03,  1.67235499e-03,  1.05832284e-03],\n",
       "        [ 3.01768444e-03,  6.59637270e-04,  9.54623974e-04, ...,\n",
       "         -2.74755294e-03,  1.67235499e-03,  1.05832284e-03],\n",
       "        [ 3.01768444e-03,  6.59637270e-04,  9.54623974e-04, ...,\n",
       "         -2.74755294e-03,  1.67235499e-03,  1.05832284e-03]]],\n",
       "      dtype=float32)>"
      ]
     },
     "execution_count": 11,
     "metadata": {},
     "output_type": "execute_result"
    }
   ],
   "source": [
    "for src_sample, tgt_sample in dataset.take(1): break\n",
    "\n",
    "model(src_sample)\n",
    "\n"
   ]
  },
  {
   "cell_type": "code",
   "execution_count": 12,
   "id": "009d3a25",
   "metadata": {},
   "outputs": [
    {
     "name": "stdout",
     "output_type": "stream",
     "text": [
      "Model: \"text_generator\"\n",
      "_________________________________________________________________\n",
      "Layer (type)                 Output Shape              Param #   \n",
      "=================================================================\n",
      "embedding (Embedding)        multiple                  1536128   \n",
      "_________________________________________________________________\n",
      "lstm (LSTM)                  multiple                  394240    \n",
      "_________________________________________________________________\n",
      "lstm_1 (LSTM)                multiple                  525312    \n",
      "_________________________________________________________________\n",
      "dense (Dense)                multiple                  3084257   \n",
      "=================================================================\n",
      "Total params: 5,539,937\n",
      "Trainable params: 5,539,937\n",
      "Non-trainable params: 0\n",
      "_________________________________________________________________\n"
     ]
    }
   ],
   "source": [
    "model.summary()"
   ]
  },
  {
   "cell_type": "code",
   "execution_count": 13,
   "id": "c8780ee0",
   "metadata": {},
   "outputs": [],
   "source": [
    "optimizer = tf.keras.optimizers.Adam() # Adam은 현재 가장 많이 사용하는 옵티마이저이다. 자세한 내용은 차차 배운다.\n",
    "loss = tf.keras.losses.SparseCategoricalCrossentropy( # 훈련 데이터의 라벨이 정수의 형태로 제공될 때 사용하는 손실함수이다.\n",
    "    from_logits=True, # 기본값은 False이다. 모델에 의해 생성된 출력 값이 정규화되지 않았음을 손실 함수에 알려준다. 즉 softmax함수가 적용되지 않았다는걸 의미한다. \n",
    "    reduction='none'  # 기본값은 SUM이다. 각자 나오는 값의 반환 원할 때 None을 사용한다.\n",
    ")\n",
    "# 모델을 학습시키키 위한 학습과정을 설정하는 단계이다.\n",
    "model.compile(loss=loss, optimizer=optimizer) # 손실함수와 훈련과정을 설정했다."
   ]
  },
  {
   "cell_type": "code",
   "execution_count": 14,
   "id": "0fff0c37",
   "metadata": {},
   "outputs": [
    {
     "name": "stdout",
     "output_type": "stream",
     "text": [
      "Epoch 1/10\n",
      "1373/1373 [==============================] - 586s 424ms/step - loss: 0.2399\n",
      "Epoch 2/10\n",
      "1373/1373 [==============================] - 589s 428ms/step - loss: 0.1466\n",
      "Epoch 3/10\n",
      "1373/1373 [==============================] - 590s 430ms/step - loss: 0.1378\n",
      "Epoch 4/10\n",
      "1373/1373 [==============================] - 595s 433ms/step - loss: 0.1314\n",
      "Epoch 5/10\n",
      "1373/1373 [==============================] - 596s 434ms/step - loss: 0.1260\n",
      "Epoch 6/10\n",
      "1373/1373 [==============================] - 600s 437ms/step - loss: 0.1210\n",
      "Epoch 7/10\n",
      "1373/1373 [==============================] - 601s 438ms/step - loss: 0.1164\n",
      "Epoch 8/10\n",
      "1373/1373 [==============================] - 602s 438ms/step - loss: 0.1123\n",
      "Epoch 9/10\n",
      "1373/1373 [==============================] - 605s 440ms/step - loss: 0.1085\n",
      "Epoch 10/10\n",
      "1373/1373 [==============================] - 602s 438ms/step - loss: 0.1051\n"
     ]
    }
   ],
   "source": [
    "import tqdm\n",
    "import tensorflow_addons as tfa\n",
    "\n",
    "tqdm_callback = tfa.callbacks.TQDMProgressBar()\n",
    "\n",
    "history = model.fit(dataset, epochs=10) # 만들어둔 데이터셋으로 모델을 학습한다. 30번 학습을 반복하겠다는 의미다."
   ]
  },
  {
   "cell_type": "code",
   "execution_count": 15,
   "id": "0352ea2d",
   "metadata": {},
   "outputs": [],
   "source": [
    "#문장생성 함수 정의\n",
    "#모델에게 시작 문장을 전달하면 모델이 시작 문장을 바탕으로 작문을 진행\n",
    "def generate_text(model, tokenizer, init_sentence=\"<start>\", max_len=15): #시작 문자열을 init_sentence 로 받으며 디폴트값은 <start> 를 받는다\n",
    "    # 테스트를 위해서 입력받은 init_sentence도 텐서로 변환합니다\n",
    "    test_input = tokenizer.texts_to_sequences([init_sentence]) #텍스트 안의 단어들을 숫자의 시퀀스의 형태로 변환\n",
    "    test_tensor = tf.convert_to_tensor(test_input, dtype=tf.int64)\n",
    "    end_token = tokenizer.word_index[\"<end>\"]\n",
    "\n",
    "    # 단어 하나씩 예측해 문장을 만듭니다\n",
    "    #    1. 입력받은 문장의 텐서를 입력합니다\n",
    "    #    2. 예측된 값 중 가장 높은 확률인 word index를 뽑아냅니다\n",
    "    #    3. 2에서 예측된 word index를 문장 뒤에 붙입니다\n",
    "    #    4. 모델이 <end>를 예측했거나, max_len에 도달했다면 문장 생성을 마칩니다 (도달 하지 못하였으면 while 루프를 돌면서 다음 단어를 예측)\n",
    "    while True: #루프를 돌면서 init_sentence에 단어를 하나씩 생성성\n",
    "        # 1\n",
    "        predict = model(test_tensor) \n",
    "        # 2\n",
    "        predict_word = tf.argmax(tf.nn.softmax(predict, axis=-1), axis=-1)[:, -1] \n",
    "        # 3 \n",
    "        test_tensor = tf.concat([test_tensor, tf.expand_dims(predict_word, axis=0)], axis=-1)\n",
    "        # 4 \n",
    "        if predict_word.numpy()[0] == end_token: break\n",
    "        if test_tensor.shape[1] >= max_len: break\n",
    "\n",
    "    generated = \"\"\n",
    "    # tokenizer를 이용해 word index를 단어로 하나씩 변환합니다 \n",
    "    for word_index in test_tensor[0].numpy():\n",
    "        generated += tokenizer.index_word[word_index] + \" \"\n",
    "\n",
    "    return generated #최종적으로 모델이 생성한 문장을 반환"
   ]
  },
  {
   "cell_type": "code",
   "execution_count": 16,
   "id": "baaa1971",
   "metadata": {},
   "outputs": [
    {
     "data": {
      "text/plain": [
       "'<start> i love you , i love you , i love you , i love '"
      ]
     },
     "execution_count": 16,
     "metadata": {},
     "output_type": "execute_result"
    }
   ],
   "source": [
    "generate_text(model, tokenizer, init_sentence=\"<start> I love\") # 시작문장으로 he를 넣어 문장생성 함수 실행"
   ]
  },
  {
   "cell_type": "code",
   "execution_count": null,
   "id": "e27d298d",
   "metadata": {},
   "outputs": [],
   "source": []
  },
  {
   "cell_type": "code",
   "execution_count": 17,
   "id": "28bceb8e",
   "metadata": {},
   "outputs": [],
   "source": [
    "model_2 = TextGenerator(tokenizer.num_words + 1, embedding_size , hidden_size) "
   ]
  },
  {
   "cell_type": "code",
   "execution_count": 18,
   "id": "3e7c0ba3",
   "metadata": {},
   "outputs": [
    {
     "data": {
      "text/plain": [
       "<tf.Tensor: shape=(128, 346, 12001), dtype=float32, numpy=\n",
       "array([[[ 1.97829868e-05, -1.14249924e-04,  2.19506146e-05, ...,\n",
       "         -9.30584501e-05, -1.28166022e-04,  4.87648940e-05],\n",
       "        [ 8.88579507e-06,  2.18709101e-06,  5.89330339e-05, ...,\n",
       "         -2.53088045e-04, -9.71993140e-05,  7.16876748e-05],\n",
       "        [-2.13954377e-06,  4.78877628e-05, -9.50808608e-05, ...,\n",
       "         -2.27371027e-04, -1.16590025e-04,  2.25399461e-04],\n",
       "        ...,\n",
       "        [ 4.19177022e-03, -2.25701858e-03,  1.48152700e-03, ...,\n",
       "         -1.40247727e-03, -9.00637242e-04, -8.89614341e-04],\n",
       "        [ 4.19176975e-03, -2.25701788e-03,  1.48152700e-03, ...,\n",
       "         -1.40247727e-03, -9.00636951e-04, -8.89614341e-04],\n",
       "        [ 4.19176975e-03, -2.25701788e-03,  1.48152700e-03, ...,\n",
       "         -1.40247727e-03, -9.00637009e-04, -8.89614224e-04]],\n",
       "\n",
       "       [[ 1.97829868e-05, -1.14249924e-04,  2.19506146e-05, ...,\n",
       "         -9.30584501e-05, -1.28166022e-04,  4.87648940e-05],\n",
       "        [-7.54138237e-05, -1.65447073e-05,  1.24249040e-04, ...,\n",
       "         -1.15419127e-04, -1.85837707e-04,  1.75686655e-04],\n",
       "        [-1.67554317e-04,  8.75163023e-05,  1.68576356e-04, ...,\n",
       "         -5.76261737e-05, -2.59917229e-04,  4.41498734e-04],\n",
       "        ...,\n",
       "        [ 4.19176975e-03, -2.25701882e-03,  1.48152630e-03, ...,\n",
       "         -1.40247855e-03, -9.00637184e-04, -8.89614341e-04],\n",
       "        [ 4.19176975e-03, -2.25701835e-03,  1.48152653e-03, ...,\n",
       "         -1.40247855e-03, -9.00636951e-04, -8.89614341e-04],\n",
       "        [ 4.19176975e-03, -2.25701882e-03,  1.48152653e-03, ...,\n",
       "         -1.40247832e-03, -9.00637067e-04, -8.89614341e-04]],\n",
       "\n",
       "       [[ 1.97829868e-05, -1.14249924e-04,  2.19506146e-05, ...,\n",
       "         -9.30584501e-05, -1.28166022e-04,  4.87648940e-05],\n",
       "        [-7.54138237e-05, -1.65447073e-05,  1.24249040e-04, ...,\n",
       "         -1.15419127e-04, -1.85837707e-04,  1.75686655e-04],\n",
       "        [-1.67554317e-04,  8.75163023e-05,  1.68576356e-04, ...,\n",
       "         -5.76261737e-05, -2.59917229e-04,  4.41498734e-04],\n",
       "        ...,\n",
       "        [ 4.19176882e-03, -2.25701882e-03,  1.48152700e-03, ...,\n",
       "         -1.40247878e-03, -9.00638173e-04, -8.89613875e-04],\n",
       "        [ 4.19176882e-03, -2.25701882e-03,  1.48152700e-03, ...,\n",
       "         -1.40247878e-03, -9.00638173e-04, -8.89613875e-04],\n",
       "        [ 4.19176882e-03, -2.25701882e-03,  1.48152700e-03, ...,\n",
       "         -1.40247878e-03, -9.00638173e-04, -8.89613875e-04]],\n",
       "\n",
       "       ...,\n",
       "\n",
       "       [[ 1.97829868e-05, -1.14249924e-04,  2.19506146e-05, ...,\n",
       "         -9.30584501e-05, -1.28166022e-04,  4.87648940e-05],\n",
       "        [-1.94532666e-04, -9.85040097e-05,  2.09855716e-06, ...,\n",
       "         -1.50009189e-04, -2.32198756e-04, -4.99352318e-05],\n",
       "        [-3.11768963e-04, -2.08211986e-05,  5.10791006e-06, ...,\n",
       "         -2.68433709e-04, -1.31540510e-04, -1.51191887e-06],\n",
       "        ...,\n",
       "        [ 4.19176929e-03, -2.25701905e-03,  1.48152735e-03, ...,\n",
       "         -1.40247855e-03, -9.00637009e-04, -8.89614108e-04],\n",
       "        [ 4.19176929e-03, -2.25701905e-03,  1.48152735e-03, ...,\n",
       "         -1.40247855e-03, -9.00637009e-04, -8.89614108e-04],\n",
       "        [ 4.19176929e-03, -2.25701905e-03,  1.48152735e-03, ...,\n",
       "         -1.40247855e-03, -9.00637009e-04, -8.89614108e-04]],\n",
       "\n",
       "       [[ 1.97829868e-05, -1.14249924e-04,  2.19506146e-05, ...,\n",
       "         -9.30584501e-05, -1.28166022e-04,  4.87648940e-05],\n",
       "        [ 5.56902269e-05, -8.78517312e-05,  6.56772727e-07, ...,\n",
       "         -6.09571835e-05, -2.22995179e-04,  9.25161949e-05],\n",
       "        [ 2.69872817e-05,  4.12421432e-05, -6.14518649e-05, ...,\n",
       "          7.46507576e-05, -2.19483438e-04,  6.77749922e-05],\n",
       "        ...,\n",
       "        [ 4.19176789e-03, -2.25701998e-03,  1.48152641e-03, ...,\n",
       "         -1.40247832e-03, -9.00637591e-04, -8.89613642e-04],\n",
       "        [ 4.19176789e-03, -2.25701998e-03,  1.48152641e-03, ...,\n",
       "         -1.40247832e-03, -9.00637591e-04, -8.89613642e-04],\n",
       "        [ 4.19176789e-03, -2.25701998e-03,  1.48152641e-03, ...,\n",
       "         -1.40247832e-03, -9.00637591e-04, -8.89613642e-04]],\n",
       "\n",
       "       [[ 1.97829868e-05, -1.14249924e-04,  2.19506146e-05, ...,\n",
       "         -9.30584501e-05, -1.28166022e-04,  4.87648940e-05],\n",
       "        [ 1.86348057e-04, -3.22507731e-05,  2.73000096e-05, ...,\n",
       "         -7.59144750e-05, -2.12404178e-04,  2.27804667e-05],\n",
       "        [ 2.69930460e-04, -4.06473810e-05, -9.71803092e-05, ...,\n",
       "         -1.51647633e-04, -4.90457867e-04, -5.04574273e-05],\n",
       "        ...,\n",
       "        [ 4.19176882e-03, -2.25701975e-03,  1.48152583e-03, ...,\n",
       "         -1.40247878e-03, -9.00638290e-04, -8.89614166e-04],\n",
       "        [ 4.19176882e-03, -2.25701975e-03,  1.48152583e-03, ...,\n",
       "         -1.40247878e-03, -9.00638290e-04, -8.89614166e-04],\n",
       "        [ 4.19176882e-03, -2.25701975e-03,  1.48152583e-03, ...,\n",
       "         -1.40247878e-03, -9.00638290e-04, -8.89614166e-04]]],\n",
       "      dtype=float32)>"
      ]
     },
     "execution_count": 18,
     "metadata": {},
     "output_type": "execute_result"
    }
   ],
   "source": [
    "model_2(src_sample)"
   ]
  },
  {
   "cell_type": "code",
   "execution_count": 19,
   "id": "46b0987f",
   "metadata": {},
   "outputs": [
    {
     "name": "stdout",
     "output_type": "stream",
     "text": [
      "Model: \"text_generator_1\"\n",
      "_________________________________________________________________\n",
      "Layer (type)                 Output Shape              Param #   \n",
      "=================================================================\n",
      "embedding_1 (Embedding)      multiple                  1536128   \n",
      "_________________________________________________________________\n",
      "lstm_2 (LSTM)                multiple                  394240    \n",
      "_________________________________________________________________\n",
      "lstm_3 (LSTM)                multiple                  525312    \n",
      "_________________________________________________________________\n",
      "dense_1 (Dense)              multiple                  3084257   \n",
      "=================================================================\n",
      "Total params: 5,539,937\n",
      "Trainable params: 5,539,937\n",
      "Non-trainable params: 0\n",
      "_________________________________________________________________\n"
     ]
    }
   ],
   "source": [
    "model_2.summary()"
   ]
  },
  {
   "cell_type": "code",
   "execution_count": 20,
   "id": "2a4dc431",
   "metadata": {},
   "outputs": [],
   "source": [
    "model_2.compile(loss=loss, optimizer=optimizer)"
   ]
  },
  {
   "cell_type": "code",
   "execution_count": 21,
   "id": "f0969c06",
   "metadata": {},
   "outputs": [
    {
     "name": "stdout",
     "output_type": "stream",
     "text": [
      "Epoch 1/10\n",
      "1099/1099 [==============================] - 566s 514ms/step - loss: 0.1019 - val_loss: 0.1022\n",
      "Epoch 2/10\n",
      "1099/1099 [==============================] - 564s 513ms/step - loss: 0.0990 - val_loss: 0.1025\n",
      "Epoch 3/10\n",
      "1099/1099 [==============================] - 562s 511ms/step - loss: 0.0964 - val_loss: 0.1025\n",
      "Epoch 4/10\n",
      "1099/1099 [==============================] - 561s 511ms/step - loss: 0.0940 - val_loss: 0.1025\n",
      "Epoch 5/10\n",
      "1099/1099 [==============================] - 563s 513ms/step - loss: 0.0918 - val_loss: 0.1027\n",
      "Epoch 6/10\n",
      "1099/1099 [==============================] - 565s 514ms/step - loss: 0.0897 - val_loss: 0.1027\n",
      "Epoch 7/10\n",
      "1099/1099 [==============================] - 567s 516ms/step - loss: 0.0878 - val_loss: 0.1029\n",
      "Epoch 8/10\n",
      "1099/1099 [==============================] - 567s 516ms/step - loss: 0.0859 - val_loss: 0.1032\n",
      "Epoch 9/10\n",
      "1099/1099 [==============================] - 568s 517ms/step - loss: 0.0842 - val_loss: 0.1034\n",
      "Epoch 10/10\n",
      "1099/1099 [==============================] - 568s 517ms/step - loss: 0.0826 - val_loss: 0.1037\n"
     ]
    }
   ],
   "source": [
    "tqdm_callback2 = tfa.callbacks.TQDMProgressBar()\n",
    "\n",
    "history2 = model.fit(enc_train, dec_train, epochs=10, batch_size=BATCH_SIZE, validation_data=(enc_val, dec_val))"
   ]
  },
  {
   "cell_type": "code",
   "execution_count": 22,
   "id": "cb86f400",
   "metadata": {},
   "outputs": [
    {
     "data": {
      "text/plain": [
       "'<start> i love muddy muddy grippin grippin grippin fatigues fatigues fatigues parkin parkin bitter pompous '"
      ]
     },
     "execution_count": 22,
     "metadata": {},
     "output_type": "execute_result"
    }
   ],
   "source": [
    "generate_text(model_2, tokenizer, init_sentence=\"<start> I love\") # 시작문장으로 he를 넣어 문장생성 함수 실행"
   ]
  },
  {
   "cell_type": "code",
   "execution_count": null,
   "id": "af7c28b9",
   "metadata": {},
   "outputs": [],
   "source": [
    "이번 노드는 경석님과 함꼐 진행 했숩니다."
   ]
  }
 ],
 "metadata": {
  "kernelspec": {
   "display_name": "Python 3 (ipykernel)",
   "language": "python",
   "name": "python3"
  },
  "language_info": {
   "codemirror_mode": {
    "name": "ipython",
    "version": 3
   },
   "file_extension": ".py",
   "mimetype": "text/x-python",
   "name": "python",
   "nbconvert_exporter": "python",
   "pygments_lexer": "ipython3",
   "version": "3.9.7"
  }
 },
 "nbformat": 4,
 "nbformat_minor": 5
}
